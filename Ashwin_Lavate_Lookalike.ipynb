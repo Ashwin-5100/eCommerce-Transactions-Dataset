{
  "nbformat": 4,
  "nbformat_minor": 0,
  "metadata": {
    "colab": {
      "provenance": []
    },
    "kernelspec": {
      "name": "python3",
      "display_name": "Python 3"
    },
    "language_info": {
      "name": "python"
    }
  },
  "cells": [
    {
      "cell_type": "code",
      "execution_count": 1,
      "metadata": {
        "id": "aVDHp5xLdyAc",
        "colab": {
          "base_uri": "https://localhost:8080/"
        },
        "outputId": "2537d775-100b-4b38-8d3b-4bd4fef050a3"
      },
      "outputs": [
        {
          "output_type": "stream",
          "name": "stdout",
          "text": [
            "Lookalike recommendations saved to Lookalike.csv.\n"
          ]
        }
      ],
      "source": [
        "import pandas as pd\n",
        "from sklearn.metrics.pairwise import cosine_similarity\n",
        "from sklearn.preprocessing import MinMaxScaler\n",
        "import numpy as np\n",
        "\n",
        "customers = pd.read_csv(\"Customers.csv\")\n",
        "products = pd.read_csv(\"Products.csv\")\n",
        "transactions = pd.read_csv(\"Transactions.csv\")\n",
        "\n",
        "transactions = transactions.merge(products, on=\"ProductID\", how=\"left\")\n",
        "transactions = transactions.merge(customers, on=\"CustomerID\", how=\"left\")\n",
        "\n",
        "customer_features = transactions.groupby(\"CustomerID\").agg(\n",
        "    total_spending=(\"TotalValue\", \"sum\"),\n",
        "    transaction_count=(\"TransactionID\", \"count\"),\n",
        "    avg_quantity=(\"Quantity\", \"mean\"),\n",
        "    preferred_category=(\"Category\", lambda x: x.mode()[0])\n",
        ").reset_index()\n",
        "\n",
        "customer_features = pd.get_dummies(customer_features, columns=[\"preferred_category\"], prefix=\"category\")\n",
        "\n",
        "scaler = MinMaxScaler()\n",
        "numeric_features = [\"total_spending\", \"transaction_count\", \"avg_quantity\"]\n",
        "customer_features[numeric_features] = scaler.fit_transform(customer_features[numeric_features])\n",
        "\n",
        "feature_matrix = customer_features.drop(\"CustomerID\", axis=1)\n",
        "similarity_matrix = cosine_similarity(feature_matrix)\n",
        "\n",
        "similarity_df = pd.DataFrame(similarity_matrix, index=customer_features[\"CustomerID\"], columns=customer_features[\"CustomerID\"])\n",
        "lookalikes = {}\n",
        "\n",
        "for customer_id in similarity_df.index:\n",
        "    similar_customers = similarity_df[customer_id].sort_values(ascending=False).iloc[1:4]\n",
        "    lookalikes[customer_id] = [(idx, round(score, 2)) for idx, score in similar_customers.items()]\n",
        "\n",
        "lookalike_df = pd.DataFrame({\"CustomerID\": lookalikes.keys(), \"SimilarCustomers\": lookalikes.values()})\n",
        "lookalike_df.to_csv(\"Lookalike.csv\", index=False)\n"
      ]
    },
    {
      "cell_type": "code",
      "source": [],
      "metadata": {
        "id": "X8N0RNV2d5yG"
      },
      "execution_count": null,
      "outputs": []
    }
  ]
}